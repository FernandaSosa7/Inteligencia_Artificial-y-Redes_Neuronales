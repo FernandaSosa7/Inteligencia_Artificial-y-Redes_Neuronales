{
  "nbformat": 4,
  "nbformat_minor": 0,
  "metadata": {
    "colab": {
      "provenance": [],
      "collapsed_sections": []
    },
    "kernelspec": {
      "name": "python3",
      "display_name": "Python 3"
    },
    "language_info": {
      "name": "python"
    }
  },
  "cells": [
    {
      "cell_type": "markdown",
      "source": [
        "### **A2: Ejercicios en Python 1 / Maria Fernanda Sosa Martinez / 1992004 / N1**"
      ],
      "metadata": {
        "id": "TwEwi2ijRQVh"
      }
    },
    {
      "cell_type": "code",
      "execution_count": 87,
      "metadata": {
        "colab": {
          "base_uri": "https://localhost:8080/"
        },
        "id": "6zurvPbdQY34",
        "outputId": "6bc907dd-c46d-4d78-8e08-0cbb0c63a418"
      },
      "outputs": [
        {
          "output_type": "stream",
          "name": "stdout",
          "text": [
            "¿Cual es tu nombre? Fernanda\n",
            "Hola Fernanda\n"
          ]
        }
      ],
      "source": [
        "\"\"\"1. Escribe un programa que le pida al usuario por su nombre y que lo salude\n",
        " con su nombre, excepto si se llama “Ana”, “Juan”, y “Pedro”. \"\"\"\n",
        "\n",
        "saludo = input(\"¿Cual es tu nombre? \")\n",
        "\n",
        "if saludo in ['Ana','ana','Juan','juan', 'Pedro', 'pedro']:\n",
        "    print(\"Hola\")\n",
        "else:\n",
        "    print(\"Hola\",saludo)\n",
        "\n",
        "\n"
      ]
    },
    {
      "cell_type": "code",
      "source": [
        "\"\"\"2.Escribe una función que regrese el último elemento de una lista y que \n",
        "revierta el orden de la lista e imprima la lista revertida.\"\"\"\n",
        "def funcion(lista):\n",
        "  print(lista[-1])\n",
        "  for x in range(len(lista)):\n",
        "    print(lista[-x])"
      ],
      "metadata": {
        "id": "Y0EIQCgXe4rO"
      },
      "execution_count": 88,
      "outputs": []
    },
    {
      "cell_type": "code",
      "source": [
        "  lista1= [3,6,9,12,15,18,21,24,27,30]\n",
        "  funcion(lista1)"
      ],
      "metadata": {
        "colab": {
          "base_uri": "https://localhost:8080/"
        },
        "id": "PFy7QR_BipNG",
        "outputId": "8c0d43b4-93d0-45da-9032-109a8605a81a"
      },
      "execution_count": 89,
      "outputs": [
        {
          "output_type": "stream",
          "name": "stdout",
          "text": [
            "30\n",
            "3\n",
            "30\n",
            "27\n",
            "24\n",
            "21\n",
            "18\n",
            "15\n",
            "12\n",
            "9\n",
            "6\n"
          ]
        }
      ]
    },
    {
      "cell_type": "code",
      "source": [
        "\"\"\"3.Escribe una función que toma una lista de strings y los imprima línea por \n",
        "línea en un marco rectangular.\"\"\"\n",
        "lista= [\"Hola \",\"me   \",\"llamo\",\"Fer  \",\":D   \"]\n",
        "print(\"*************\")\n",
        "for x in lista:\n",
        "  print(\"*\",x, \"    *\")\n",
        "print(\"*************\")"
      ],
      "metadata": {
        "colab": {
          "base_uri": "https://localhost:8080/"
        },
        "id": "6lejnFgHkMRf",
        "outputId": "b386e39a-3aed-4a24-8d2e-ccfda903c20c"
      },
      "execution_count": 90,
      "outputs": [
        {
          "output_type": "stream",
          "name": "stdout",
          "text": [
            "*************\n",
            "* Hola      *\n",
            "* me        *\n",
            "* llamo     *\n",
            "* Fer       *\n",
            "* :D        *\n",
            "*************\n"
          ]
        }
      ]
    }
  ]
}